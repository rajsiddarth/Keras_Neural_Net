{
 "cells": [
  {
   "cell_type": "markdown",
   "metadata": {
    "deletable": true,
    "editable": true
   },
   "source": [
    "Keras: Deep Learning library for Theano and TensorFlow\n"
   ]
  },
  {
   "cell_type": "markdown",
   "metadata": {
    "deletable": true,
    "editable": true
   },
   "source": [
    "#### Load Data"
   ]
  },
  {
   "cell_type": "code",
   "execution_count": 15,
   "metadata": {
    "collapsed": false,
    "deletable": true,
    "editable": true
   },
   "outputs": [],
   "source": [
    "import numpy as np\n",
    "import pandas as pd\n",
    "\n",
    "# fix random seed for reproducibility\n",
    "np.random.seed(123)\n",
    "\n",
    "url=\"https://raw.githubusercontent.com/rajsiddarth119/NN_Keras/master/diabetes.csv\"\n",
    "\n",
    "# load dataset\n",
    "data = pd.read_csv(url,na_filter=True,names=['var1','var2','var3','var4','var5','var6','var7','var8','target'])\n"
   ]
  },
  {
   "cell_type": "code",
   "execution_count": 18,
   "metadata": {
    "collapsed": false,
    "deletable": true,
    "editable": true
   },
   "outputs": [
    {
     "data": {
      "text/html": [
       "<div>\n",
       "<table border=\"1\" class=\"dataframe\">\n",
       "  <thead>\n",
       "    <tr style=\"text-align: right;\">\n",
       "      <th></th>\n",
       "      <th>var1</th>\n",
       "      <th>var2</th>\n",
       "      <th>var3</th>\n",
       "      <th>var4</th>\n",
       "      <th>var5</th>\n",
       "      <th>var6</th>\n",
       "      <th>var7</th>\n",
       "      <th>var8</th>\n",
       "      <th>target</th>\n",
       "    </tr>\n",
       "  </thead>\n",
       "  <tbody>\n",
       "    <tr>\n",
       "      <th>0</th>\n",
       "      <td>6</td>\n",
       "      <td>148</td>\n",
       "      <td>72</td>\n",
       "      <td>35</td>\n",
       "      <td>0</td>\n",
       "      <td>33.6</td>\n",
       "      <td>0.627</td>\n",
       "      <td>50</td>\n",
       "      <td>1</td>\n",
       "    </tr>\n",
       "    <tr>\n",
       "      <th>1</th>\n",
       "      <td>1</td>\n",
       "      <td>85</td>\n",
       "      <td>66</td>\n",
       "      <td>29</td>\n",
       "      <td>0</td>\n",
       "      <td>26.6</td>\n",
       "      <td>0.351</td>\n",
       "      <td>31</td>\n",
       "      <td>0</td>\n",
       "    </tr>\n",
       "    <tr>\n",
       "      <th>2</th>\n",
       "      <td>8</td>\n",
       "      <td>183</td>\n",
       "      <td>64</td>\n",
       "      <td>0</td>\n",
       "      <td>0</td>\n",
       "      <td>23.3</td>\n",
       "      <td>0.672</td>\n",
       "      <td>32</td>\n",
       "      <td>1</td>\n",
       "    </tr>\n",
       "    <tr>\n",
       "      <th>3</th>\n",
       "      <td>1</td>\n",
       "      <td>89</td>\n",
       "      <td>66</td>\n",
       "      <td>23</td>\n",
       "      <td>94</td>\n",
       "      <td>28.1</td>\n",
       "      <td>0.167</td>\n",
       "      <td>21</td>\n",
       "      <td>0</td>\n",
       "    </tr>\n",
       "    <tr>\n",
       "      <th>4</th>\n",
       "      <td>0</td>\n",
       "      <td>137</td>\n",
       "      <td>40</td>\n",
       "      <td>35</td>\n",
       "      <td>168</td>\n",
       "      <td>43.1</td>\n",
       "      <td>2.288</td>\n",
       "      <td>33</td>\n",
       "      <td>1</td>\n",
       "    </tr>\n",
       "  </tbody>\n",
       "</table>\n",
       "</div>"
      ],
      "text/plain": [
       "   var1  var2  var3  var4  var5  var6   var7  var8  target\n",
       "0     6   148    72    35     0  33.6  0.627    50       1\n",
       "1     1    85    66    29     0  26.6  0.351    31       0\n",
       "2     8   183    64     0     0  23.3  0.672    32       1\n",
       "3     1    89    66    23    94  28.1  0.167    21       0\n",
       "4     0   137    40    35   168  43.1  2.288    33       1"
      ]
     },
     "execution_count": 18,
     "metadata": {},
     "output_type": "execute_result"
    }
   ],
   "source": [
    "data.head()"
   ]
  },
  {
   "cell_type": "code",
   "execution_count": 3,
   "metadata": {
    "collapsed": false,
    "deletable": true,
    "editable": true
   },
   "outputs": [
    {
     "name": "stdout",
     "output_type": "stream",
     "text": [
      "(767, 9)\n"
     ]
    }
   ],
   "source": [
    "print data.shape"
   ]
  },
  {
   "cell_type": "markdown",
   "metadata": {
    "deletable": true,
    "editable": true
   },
   "source": [
    "Seperate independent variables(X) and target variable(y)"
   ]
  },
  {
   "cell_type": "code",
   "execution_count": 25,
   "metadata": {
    "collapsed": false,
    "deletable": true,
    "editable": true
   },
   "outputs": [
    {
     "data": {
      "text/plain": [
       "var1         int64\n",
       "var2         int64\n",
       "var3         int64\n",
       "var4         int64\n",
       "var5         int64\n",
       "var6       float64\n",
       "var7       float64\n",
       "var8         int64\n",
       "target    category\n",
       "dtype: object"
      ]
     },
     "execution_count": 25,
     "metadata": {},
     "output_type": "execute_result"
    }
   ],
   "source": [
    "X = data.ix[:,0:8]\n",
    "y = data.ix[:,8]\n",
    "data.dtypes"
   ]
  },
  {
   "cell_type": "code",
   "execution_count": 24,
   "metadata": {
    "collapsed": true
   },
   "outputs": [],
   "source": [
    "#Converting target to factor\n",
    "data['target']=data['target'].astype('category')\n"
   ]
  },
  {
   "cell_type": "markdown",
   "metadata": {
    "deletable": true,
    "editable": true
   },
   "source": [
    "Split X and y into training and testing sets"
   ]
  },
  {
   "cell_type": "code",
   "execution_count": 29,
   "metadata": {
    "collapsed": false
   },
   "outputs": [
    {
     "name": "stdout",
     "output_type": "stream",
     "text": [
      "0    350\n",
      "1    187\n",
      "Name: target, dtype: int64\n",
      "0    150\n",
      "1     81\n",
      "Name: target, dtype: int64\n"
     ]
    }
   ],
   "source": [
    "# Split X and y into training and testing sets using stratified sampling\n",
    "import random\n",
    "random.seed(123)\n",
    "\n",
    "from sklearn.cross_validation import StratifiedShuffleSplit\n",
    "\n",
    "data_index=StratifiedShuffleSplit(y,n_iter=1,test_size=0.3)\n",
    "for train_index,test_index in data_index:\n",
    "    X_traindata,X_testdata=X.loc[train_index],X.loc[test_index]\n",
    "    Y_traindata,Y_testdata=y.loc[train_index],y.loc[test_index]\n",
    "train_data=pd.concat([X_traindata,Y_traindata],axis=1).reset_index()\n",
    "test_data=pd.concat([X_testdata,Y_testdata],axis=1).reset_index()\n",
    "\n",
    "#Checking the sampling for data and eval data\n",
    "print(train_data['target'].value_counts())\n",
    "print(test_data['target'].value_counts())\n",
    "import warnings\n",
    "warnings.filterwarnings(\"ignore\")\n"
   ]
  },
  {
   "cell_type": "markdown",
   "metadata": {
    "deletable": true,
    "editable": true
   },
   "source": [
    "#### Define Model"
   ]
  },
  {
   "cell_type": "markdown",
   "metadata": {
    "deletable": true,
    "editable": true
   },
   "source": [
    "1. Models in Keras are defined as a sequence of layers.\n",
    "\n",
    "2. First sequential model is created and layers are added one at a time. The best network structure is found through a process of trial and error experimentation."
   ]
  },
  {
   "cell_type": "markdown",
   "metadata": {
    "deletable": true,
    "editable": true
   },
   "source": [
    "Now we will build a fully-connected network structure with three layers.\n",
    "\n",
    "    The first layer has 12 neurons and expects 8 input variables. \n",
    "    The second hidden layer has 8 neurons and \n",
    "    Finally the output layer has 1 neuron to predict the class\n",
    "Tensor flow is not supported in python 3.6.Hence using Theano backend. \n",
    "#Go to keras.json file and change backnd to \"theano\""
   ]
  },
  {
   "cell_type": "code",
   "execution_count": 42,
   "metadata": {
    "collapsed": false,
    "deletable": true,
    "editable": true
   },
   "outputs": [],
   "source": [
    "from keras.models import Sequential\n",
    "\n",
    "#Fully connected layers are defined using the Dense class. \n",
    "from keras.layers import Dense"
   ]
  },
  {
   "cell_type": "code",
   "execution_count": 43,
   "metadata": {
    "collapsed": true,
    "deletable": true,
    "editable": true
   },
   "outputs": [],
   "source": [
    "model = Sequential()"
   ]
  },
  {
   "cell_type": "markdown",
   "metadata": {
    "deletable": true,
    "editable": true
   },
   "source": [
    "The Sequential model is a linear stack of layers. \n",
    "Sequential model is created by passing a list of layer instances to the constructor or by simply add layers via the .add() method:"
   ]
  },
  {
   "cell_type": "code",
   "execution_count": 44,
   "metadata": {
    "collapsed": true,
    "deletable": true,
    "editable": true
   },
   "outputs": [],
   "source": [
    "model.add(Dense(12, input_dim=8, init='uniform', activation='relu'))\n",
    "model.add(Dense(8, init='uniform', activation='relu'))\n",
    "model.add(Dense(1, init='uniform', activation='sigmoid'))"
   ]
  },
  {
   "cell_type": "markdown",
   "metadata": {
    "deletable": true,
    "editable": true
   },
   "source": [
    "\n",
    "We specify \n",
    "    1. The number of neurons in the layer as the first argument\n",
    "    2. The model needs to know what input shape it should expect. For this reason, the first layer in a Sequential \n",
    "       model (and only the first, because following layers can do automatic shape inference) needs to receive \n",
    "       information about its input shape. One way is using input_dim argument. \n",
    "    3. The initialization method as the second argument as init and   \n",
    "       We initialize the network weights to a small random number generated from a uniform distribution (‘uniform‘), \n",
    "       in this case between 0 and 0.05.\n",
    "    4. The activation function using the activation argument.\n",
    "       ‘relu‘ activation function is used in first two layers and the sigmoid activiation function in the output \n",
    "       layer. "
   ]
  },
  {
   "cell_type": "markdown",
   "metadata": {
    "deletable": true,
    "editable": true
   },
   "source": [
    "#### Compile Model"
   ]
  },
  {
   "cell_type": "markdown",
   "metadata": {
    "deletable": true,
    "editable": true
   },
   "source": [
    "Before training a model, you need to configure the learning process, which is done via the compile method. It receives three arguments:\n",
    "\n",
    "    an optimizer     : This could be the string identifier of an existing optimizer (such as rmsprop or adagrad), \n",
    "                       or an instance of the Optimizer class.\n",
    "    a loss function  : This is the objective that the model will try to minimize. It can be the string identifier \n",
    "                       of an existing loss function (such as categorical_crossentropy or mse), or \n",
    "                       it can be an objective function.\n",
    "    a list of metrics: For any classification problem you will want to set this to metrics=['accuracy']. \n",
    "                       A metric could be the string identifier of an existing metric or a custom metric function."
   ]
  },
  {
   "cell_type": "code",
   "execution_count": 45,
   "metadata": {
    "collapsed": true,
    "deletable": true,
    "editable": true
   },
   "outputs": [],
   "source": [
    "# Compile model\n",
    "model.compile(loss='binary_crossentropy', optimizer='adam', metrics=['accuracy'])"
   ]
  },
  {
   "cell_type": "markdown",
   "metadata": {
    "deletable": true,
    "editable": true
   },
   "source": [
    "#### Training"
   ]
  },
  {
   "cell_type": "markdown",
   "metadata": {
    "deletable": true,
    "editable": true
   },
   "source": [
    "Keras models are trained on Numpy arrays of input data and labels.For training a model, you will typically use the fit function:\n",
    "       #x         : input data, as a Numpy array or list of Numpy arrays (if the model has multiple inputs).\n",
    "       #y         : labels, as a Numpy array.\n",
    "       #batch_size: integer. Number of samples per gradient update.\n",
    "       #epochs  : integer, the number of epochs to train the model."
   ]
  },
  {
   "cell_type": "code",
   "execution_count": 57,
   "metadata": {
    "collapsed": false,
    "deletable": true,
    "editable": true
   },
   "outputs": [
    {
     "name": "stdout",
     "output_type": "stream",
     "text": [
      "Epoch 1/150\n",
      "537/537 [==============================] - 0s - loss: 0.6857 - acc: 0.6406     \n",
      "Epoch 2/150\n",
      "537/537 [==============================] - 0s - loss: 0.6700 - acc: 0.6518     \n",
      "Epoch 3/150\n",
      "537/537 [==============================] - 0s - loss: 0.6650 - acc: 0.6518     \n",
      "Epoch 4/150\n",
      "537/537 [==============================] - 0s - loss: 0.6586 - acc: 0.6499     \n",
      "Epoch 5/150\n",
      "537/537 [==============================] - 0s - loss: 0.6560 - acc: 0.6536     \n",
      "Epoch 6/150\n",
      "537/537 [==============================] - 0s - loss: 0.6529 - acc: 0.6536     \n",
      "Epoch 7/150\n",
      "537/537 [==============================] - 0s - loss: 0.6504 - acc: 0.6480     \n",
      "Epoch 8/150\n",
      "537/537 [==============================] - 0s - loss: 0.6452 - acc: 0.6462     \n",
      "Epoch 9/150\n",
      "537/537 [==============================] - 0s - loss: 0.6437 - acc: 0.6536     \n",
      "Epoch 10/150\n",
      "537/537 [==============================] - 0s - loss: 0.6363 - acc: 0.6574     \n",
      "Epoch 11/150\n",
      "537/537 [==============================] - 0s - loss: 0.6325 - acc: 0.6518     \n",
      "Epoch 12/150\n",
      "537/537 [==============================] - 0s - loss: 0.6292 - acc: 0.6648     \n",
      "Epoch 13/150\n",
      "537/537 [==============================] - 0s - loss: 0.6212 - acc: 0.6667     \n",
      "Epoch 14/150\n",
      "537/537 [==============================] - 0s - loss: 0.6214 - acc: 0.6611     \n",
      "Epoch 15/150\n",
      "537/537 [==============================] - 0s - loss: 0.6149 - acc: 0.6629     \n",
      "Epoch 16/150\n",
      "537/537 [==============================] - 0s - loss: 0.6064 - acc: 0.6797     \n",
      "Epoch 17/150\n",
      "537/537 [==============================] - 0s - loss: 0.6006 - acc: 0.6778     \n",
      "Epoch 18/150\n",
      "537/537 [==============================] - 0s - loss: 0.5997 - acc: 0.6778     \n",
      "Epoch 19/150\n",
      "537/537 [==============================] - 0s - loss: 0.5937 - acc: 0.6853     \n",
      "Epoch 20/150\n",
      "537/537 [==============================] - 0s - loss: 0.6091 - acc: 0.6648     \n",
      "Epoch 21/150\n",
      "537/537 [==============================] - 0s - loss: 0.5913 - acc: 0.7020     \n",
      "Epoch 22/150\n",
      "537/537 [==============================] - 0s - loss: 0.5900 - acc: 0.6909     \n",
      "Epoch 23/150\n",
      "537/537 [==============================] - 0s - loss: 0.5875 - acc: 0.6909     \n",
      "Epoch 24/150\n",
      "537/537 [==============================] - 0s - loss: 0.5959 - acc: 0.6797     \n",
      "Epoch 25/150\n",
      "537/537 [==============================] - 0s - loss: 0.5809 - acc: 0.7020     \n",
      "Epoch 26/150\n",
      "537/537 [==============================] - 0s - loss: 0.5868 - acc: 0.6797     \n",
      "Epoch 27/150\n",
      "537/537 [==============================] - 0s - loss: 0.5773 - acc: 0.7095     \n",
      "Epoch 28/150\n",
      "537/537 [==============================] - 0s - loss: 0.5792 - acc: 0.7132     \n",
      "Epoch 29/150\n",
      "537/537 [==============================] - 0s - loss: 0.5802 - acc: 0.7020     \n",
      "Epoch 30/150\n",
      "537/537 [==============================] - 0s - loss: 0.5771 - acc: 0.6946     \n",
      "Epoch 31/150\n",
      "537/537 [==============================] - 0s - loss: 0.5771 - acc: 0.7039     \n",
      "Epoch 32/150\n",
      "537/537 [==============================] - 0s - loss: 0.5873 - acc: 0.6890     \n",
      "Epoch 33/150\n",
      "537/537 [==============================] - 0s - loss: 0.5781 - acc: 0.7207     \n",
      "Epoch 34/150\n",
      "537/537 [==============================] - 0s - loss: 0.5769 - acc: 0.7002     \n",
      "Epoch 35/150\n",
      "537/537 [==============================] - 0s - loss: 0.5953 - acc: 0.6797     \n",
      "Epoch 36/150\n",
      "537/537 [==============================] - 0s - loss: 0.5852 - acc: 0.7151     \n",
      "Epoch 37/150\n",
      "537/537 [==============================] - 0s - loss: 0.5760 - acc: 0.7207     \n",
      "Epoch 38/150\n",
      "537/537 [==============================] - 0s - loss: 0.5720 - acc: 0.7207     \n",
      "Epoch 39/150\n",
      "537/537 [==============================] - 0s - loss: 0.5739 - acc: 0.7039     \n",
      "Epoch 40/150\n",
      "537/537 [==============================] - 0s - loss: 0.5728 - acc: 0.7151     \n",
      "Epoch 41/150\n",
      "537/537 [==============================] - 0s - loss: 0.5717 - acc: 0.7114     \n",
      "Epoch 42/150\n",
      "537/537 [==============================] - 0s - loss: 0.5705 - acc: 0.7188     \n",
      "Epoch 43/150\n",
      "537/537 [==============================] - 0s - loss: 0.5661 - acc: 0.7151     \n",
      "Epoch 44/150\n",
      "537/537 [==============================] - 0s - loss: 0.5650 - acc: 0.7169     \n",
      "Epoch 45/150\n",
      "537/537 [==============================] - 0s - loss: 0.5688 - acc: 0.7188     \n",
      "Epoch 46/150\n",
      "537/537 [==============================] - 0s - loss: 0.5653 - acc: 0.7263     \n",
      "Epoch 47/150\n",
      "537/537 [==============================] - 0s - loss: 0.5669 - acc: 0.7263     \n",
      "Epoch 48/150\n",
      "537/537 [==============================] - 0s - loss: 0.5622 - acc: 0.7356     \n",
      "Epoch 49/150\n",
      "537/537 [==============================] - 0s - loss: 0.5631 - acc: 0.7337     \n",
      "Epoch 50/150\n",
      "537/537 [==============================] - 0s - loss: 0.5610 - acc: 0.7169     \n",
      "Epoch 51/150\n",
      "537/537 [==============================] - 0s - loss: 0.5593 - acc: 0.7337     \n",
      "Epoch 52/150\n",
      "537/537 [==============================] - 0s - loss: 0.5599 - acc: 0.7374     \n",
      "Epoch 53/150\n",
      "537/537 [==============================] - 0s - loss: 0.5649 - acc: 0.7263     \n",
      "Epoch 54/150\n",
      "537/537 [==============================] - 0s - loss: 0.5614 - acc: 0.7337     \n",
      "Epoch 55/150\n",
      "537/537 [==============================] - 0s - loss: 0.5579 - acc: 0.7244     \n",
      "Epoch 56/150\n",
      "537/537 [==============================] - 0s - loss: 0.5555 - acc: 0.7523     \n",
      "Epoch 57/150\n",
      "537/537 [==============================] - 0s - loss: 0.5585 - acc: 0.7467     \n",
      "Epoch 58/150\n",
      "537/537 [==============================] - 0s - loss: 0.5555 - acc: 0.7300     \n",
      "Epoch 59/150\n",
      "537/537 [==============================] - 0s - loss: 0.5592 - acc: 0.7281     \n",
      "Epoch 60/150\n",
      "537/537 [==============================] - 0s - loss: 0.5638 - acc: 0.7281     \n",
      "Epoch 61/150\n",
      "537/537 [==============================] - 0s - loss: 0.5573 - acc: 0.7691     \n",
      "Epoch 62/150\n",
      "537/537 [==============================] - 0s - loss: 0.5600 - acc: 0.7207     \n",
      "Epoch 63/150\n",
      "537/537 [==============================] - 0s - loss: 0.5525 - acc: 0.7337     \n",
      "Epoch 64/150\n",
      "537/537 [==============================] - 0s - loss: 0.5497 - acc: 0.7337     \n",
      "Epoch 65/150\n",
      "537/537 [==============================] - 0s - loss: 0.5495 - acc: 0.7300     \n",
      "Epoch 66/150\n",
      "537/537 [==============================] - 0s - loss: 0.5483 - acc: 0.7356     \n",
      "Epoch 67/150\n",
      "537/537 [==============================] - 0s - loss: 0.5504 - acc: 0.7412     \n",
      "Epoch 68/150\n",
      "537/537 [==============================] - 0s - loss: 0.5465 - acc: 0.7318     \n",
      "Epoch 69/150\n",
      "537/537 [==============================] - 0s - loss: 0.5460 - acc: 0.7412     \n",
      "Epoch 70/150\n",
      "537/537 [==============================] - 0s - loss: 0.5486 - acc: 0.7412     \n",
      "Epoch 71/150\n",
      "537/537 [==============================] - 0s - loss: 0.5466 - acc: 0.7356     \n",
      "Epoch 72/150\n",
      "537/537 [==============================] - 0s - loss: 0.5449 - acc: 0.7244     \n",
      "Epoch 73/150\n",
      "537/537 [==============================] - 0s - loss: 0.5459 - acc: 0.7207     \n",
      "Epoch 74/150\n",
      "537/537 [==============================] - 0s - loss: 0.5466 - acc: 0.7449     \n",
      "Epoch 75/150\n",
      "537/537 [==============================] - 0s - loss: 0.5480 - acc: 0.7393     \n",
      "Epoch 76/150\n",
      "537/537 [==============================] - 0s - loss: 0.5391 - acc: 0.7374     \n",
      "Epoch 77/150\n",
      "537/537 [==============================] - 0s - loss: 0.5425 - acc: 0.7374     \n",
      "Epoch 78/150\n",
      "537/537 [==============================] - 0s - loss: 0.5468 - acc: 0.7393     \n",
      "Epoch 79/150\n",
      "537/537 [==============================] - 0s - loss: 0.5482 - acc: 0.7356     \n",
      "Epoch 80/150\n",
      "537/537 [==============================] - 0s - loss: 0.5453 - acc: 0.7430     \n",
      "Epoch 81/150\n",
      "537/537 [==============================] - 0s - loss: 0.5414 - acc: 0.7356     \n",
      "Epoch 82/150\n",
      "537/537 [==============================] - 0s - loss: 0.5394 - acc: 0.7505     \n",
      "Epoch 83/150\n",
      "537/537 [==============================] - 0s - loss: 0.5457 - acc: 0.7393     \n",
      "Epoch 84/150\n",
      "537/537 [==============================] - 0s - loss: 0.5354 - acc: 0.7318     \n",
      "Epoch 85/150\n",
      "537/537 [==============================] - 0s - loss: 0.5346 - acc: 0.7505     \n",
      "Epoch 86/150\n",
      "537/537 [==============================] - 0s - loss: 0.5325 - acc: 0.7523     \n",
      "Epoch 87/150\n",
      "537/537 [==============================] - 0s - loss: 0.5339 - acc: 0.7523     \n",
      "Epoch 88/150\n",
      "537/537 [==============================] - 0s - loss: 0.5353 - acc: 0.7486     \n",
      "Epoch 89/150\n",
      "537/537 [==============================] - 0s - loss: 0.5326 - acc: 0.7281     \n",
      "Epoch 90/150\n",
      "537/537 [==============================] - 0s - loss: 0.5304 - acc: 0.7430     \n",
      "Epoch 91/150\n",
      "537/537 [==============================] - 0s - loss: 0.5292 - acc: 0.7486     \n",
      "Epoch 92/150\n",
      "537/537 [==============================] - 0s - loss: 0.5384 - acc: 0.7356     \n",
      "Epoch 93/150\n",
      "537/537 [==============================] - 0s - loss: 0.5296 - acc: 0.7561     \n",
      "Epoch 94/150\n",
      "537/537 [==============================] - 0s - loss: 0.5337 - acc: 0.7449     \n",
      "Epoch 95/150\n",
      "537/537 [==============================] - 0s - loss: 0.5291 - acc: 0.7393     \n",
      "Epoch 96/150\n",
      "537/537 [==============================] - 0s - loss: 0.5275 - acc: 0.7579     \n",
      "Epoch 97/150\n",
      "537/537 [==============================] - 0s - loss: 0.5277 - acc: 0.7505     \n",
      "Epoch 98/150\n",
      "537/537 [==============================] - 0s - loss: 0.5236 - acc: 0.7393     \n",
      "Epoch 99/150\n",
      "537/537 [==============================] - 0s - loss: 0.5227 - acc: 0.7412     \n",
      "Epoch 100/150\n",
      "537/537 [==============================] - 0s - loss: 0.5238 - acc: 0.7467     \n",
      "Epoch 101/150\n",
      "537/537 [==============================] - 0s - loss: 0.5197 - acc: 0.7449     \n",
      "Epoch 102/150\n",
      "537/537 [==============================] - 0s - loss: 0.5214 - acc: 0.7430     \n",
      "Epoch 103/150\n",
      "537/537 [==============================] - 0s - loss: 0.5239 - acc: 0.7412     \n",
      "Epoch 104/150\n",
      "537/537 [==============================] - 0s - loss: 0.5195 - acc: 0.7486     \n",
      "Epoch 105/150\n",
      "537/537 [==============================] - 0s - loss: 0.5158 - acc: 0.7505     \n",
      "Epoch 106/150\n",
      "537/537 [==============================] - 0s - loss: 0.5166 - acc: 0.7523     \n",
      "Epoch 107/150\n",
      "537/537 [==============================] - 0s - loss: 0.5169 - acc: 0.7505     \n",
      "Epoch 108/150\n",
      "537/537 [==============================] - 0s - loss: 0.5181 - acc: 0.7542     \n",
      "Epoch 109/150\n",
      "537/537 [==============================] - 0s - loss: 0.5199 - acc: 0.7449     \n",
      "Epoch 110/150\n",
      "537/537 [==============================] - 0s - loss: 0.5117 - acc: 0.7467     \n",
      "Epoch 111/150\n",
      "537/537 [==============================] - 0s - loss: 0.5189 - acc: 0.7467     \n",
      "Epoch 112/150\n",
      "537/537 [==============================] - 0s - loss: 0.5225 - acc: 0.7300     \n",
      "Epoch 113/150\n",
      "537/537 [==============================] - 0s - loss: 0.5161 - acc: 0.7449     \n",
      "Epoch 114/150\n",
      "537/537 [==============================] - 0s - loss: 0.5129 - acc: 0.7691     \n",
      "Epoch 115/150\n",
      "537/537 [==============================] - 0s - loss: 0.5087 - acc: 0.7542     \n",
      "Epoch 116/150\n",
      "537/537 [==============================] - 0s - loss: 0.5097 - acc: 0.7467     \n",
      "Epoch 117/150\n",
      "537/537 [==============================] - 0s - loss: 0.5130 - acc: 0.7505     \n",
      "Epoch 118/150\n",
      "537/537 [==============================] - 0s - loss: 0.5087 - acc: 0.7598     \n",
      "Epoch 119/150\n",
      "537/537 [==============================] - 0s - loss: 0.5083 - acc: 0.7505     \n",
      "Epoch 120/150\n",
      "537/537 [==============================] - 0s - loss: 0.5071 - acc: 0.7430     \n",
      "Epoch 121/150\n",
      "537/537 [==============================] - 0s - loss: 0.5183 - acc: 0.7579     \n",
      "Epoch 122/150\n",
      "537/537 [==============================] - 0s - loss: 0.5053 - acc: 0.7523     \n",
      "Epoch 123/150\n",
      "537/537 [==============================] - 0s - loss: 0.5159 - acc: 0.7598     \n",
      "Epoch 124/150\n",
      "537/537 [==============================] - 0s - loss: 0.5057 - acc: 0.7523     \n",
      "Epoch 125/150\n",
      "537/537 [==============================] - 0s - loss: 0.5085 - acc: 0.7486     \n",
      "Epoch 126/150\n",
      "537/537 [==============================] - 0s - loss: 0.5110 - acc: 0.7523     \n",
      "Epoch 127/150\n",
      "537/537 [==============================] - 0s - loss: 0.5073 - acc: 0.7505     \n",
      "Epoch 128/150\n",
      "537/537 [==============================] - 0s - loss: 0.4997 - acc: 0.7486     \n",
      "Epoch 129/150\n",
      "537/537 [==============================] - 0s - loss: 0.5003 - acc: 0.7505     \n",
      "Epoch 130/150\n",
      "537/537 [==============================] - 0s - loss: 0.4964 - acc: 0.7598     \n",
      "Epoch 131/150\n",
      "537/537 [==============================] - 0s - loss: 0.5027 - acc: 0.7561     \n",
      "Epoch 132/150\n",
      "537/537 [==============================] - 0s - loss: 0.4990 - acc: 0.7542     \n",
      "Epoch 133/150\n",
      "537/537 [==============================] - 0s - loss: 0.5054 - acc: 0.7523     \n",
      "Epoch 134/150\n",
      "537/537 [==============================] - 0s - loss: 0.5032 - acc: 0.7412     \n",
      "Epoch 135/150\n",
      "537/537 [==============================] - 0s - loss: 0.5000 - acc: 0.7449     \n",
      "Epoch 136/150\n",
      "537/537 [==============================] - 0s - loss: 0.5069 - acc: 0.7561     \n",
      "Epoch 137/150\n",
      "537/537 [==============================] - 0s - loss: 0.5036 - acc: 0.7598     \n",
      "Epoch 138/150\n",
      "537/537 [==============================] - 0s - loss: 0.4972 - acc: 0.7449     \n",
      "Epoch 139/150\n",
      "537/537 [==============================] - 0s - loss: 0.4980 - acc: 0.7765     \n",
      "Epoch 140/150\n",
      "537/537 [==============================] - 0s - loss: 0.5023 - acc: 0.7579     \n",
      "Epoch 141/150\n",
      "537/537 [==============================] - 0s - loss: 0.5060 - acc: 0.7523     \n",
      "Epoch 142/150\n",
      "537/537 [==============================] - 0s - loss: 0.5002 - acc: 0.7654     \n",
      "Epoch 143/150\n",
      "537/537 [==============================] - 0s - loss: 0.5030 - acc: 0.7672     \n",
      "Epoch 144/150\n",
      "537/537 [==============================] - 0s - loss: 0.4962 - acc: 0.7467     \n",
      "Epoch 145/150\n",
      "537/537 [==============================] - 0s - loss: 0.4944 - acc: 0.7412     \n",
      "Epoch 146/150\n",
      "537/537 [==============================] - 0s - loss: 0.4940 - acc: 0.7505     \n",
      "Epoch 147/150\n",
      "537/537 [==============================] - 0s - loss: 0.4947 - acc: 0.7523     \n",
      "Epoch 148/150\n",
      "537/537 [==============================] - 0s - loss: 0.4939 - acc: 0.7486     \n",
      "Epoch 149/150\n",
      "537/537 [==============================] - 0s - loss: 0.5054 - acc: 0.7523     \n",
      "Epoch 150/150\n",
      "537/537 [==============================] - 0s - loss: 0.4991 - acc: 0.7523     \n"
     ]
    },
    {
     "data": {
      "text/plain": [
       "<keras.callbacks.History at 0xe5993c8>"
      ]
     },
     "execution_count": 57,
     "metadata": {},
     "output_type": "execute_result"
    }
   ],
   "source": [
    "# Fit the model\n",
    "X_traindata,Y_traindata=np.array(X_traindata),np.array(Y_traindata)\n",
    "model.fit(X_traindata,Y_traindata,epochs=150, batch_size=10)"
   ]
  },
  {
   "cell_type": "markdown",
   "metadata": {
    "deletable": true,
    "editable": true
   },
   "source": [
    "#### Evaluate Model"
   ]
  },
  {
   "cell_type": "markdown",
   "metadata": {
    "deletable": true,
    "editable": true
   },
   "source": [
    " Evaluate the performance of the network on train data"
   ]
  },
  {
   "cell_type": "code",
   "execution_count": 60,
   "metadata": {
    "collapsed": false,
    "deletable": true,
    "editable": true
   },
   "outputs": [
    {
     "name": "stdout",
     "output_type": "stream",
     "text": [
      "\r",
      " 32/537 [>.............................] - ETA: 0s"
     ]
    }
   ],
   "source": [
    "scores = model.evaluate(X_traindata,Y_traindata)\n"
   ]
  },
  {
   "cell_type": "code",
   "execution_count": 61,
   "metadata": {
    "collapsed": false
   },
   "outputs": [
    {
     "name": "stdout",
     "output_type": "stream",
     "text": [
      "acc: 77.47%\n"
     ]
    }
   ],
   "source": [
    "print(\"%s: %.2f%%\" % (model.metrics_names[1], scores[1]*100))"
   ]
  },
  {
   "cell_type": "markdown",
   "metadata": {
    "deletable": true,
    "editable": true
   },
   "source": [
    "#### Predictions"
   ]
  },
  {
   "cell_type": "markdown",
   "metadata": {
    "deletable": true,
    "editable": true
   },
   "source": [
    "Making predictions for test data"
   ]
  },
  {
   "cell_type": "code",
   "execution_count": 63,
   "metadata": {
    "collapsed": false,
    "deletable": true,
    "editable": true
   },
   "outputs": [
    {
     "name": "stdout",
     "output_type": "stream",
     "text": [
      "\r",
      " 32/231 [===>..........................] - ETA: 0s"
     ]
    }
   ],
   "source": [
    "X_testdata,Y_testdata=np.array(X_testdata),np.array(Y_testdata)\n",
    "y_pred_class = model.predict_classes(X_testdata)"
   ]
  },
  {
   "cell_type": "code",
   "execution_count": 69,
   "metadata": {
    "collapsed": false,
    "deletable": true,
    "editable": true
   },
   "outputs": [
    {
     "name": "stdout",
     "output_type": "stream",
     "text": [
      "0.766233766234\n"
     ]
    }
   ],
   "source": [
    "# calculate accuracy of class predictions\n",
    "from sklearn import metrics\n",
    "print (metrics.accuracy_score(Y_testdata, y_pred_class))"
   ]
  },
  {
   "cell_type": "code",
   "execution_count": 70,
   "metadata": {
    "collapsed": false,
    "deletable": true,
    "editable": true
   },
   "outputs": [
    {
     "data": {
      "text/plain": [
       "array([[127,  23],\n",
       "       [ 31,  50]])"
      ]
     },
     "execution_count": 70,
     "metadata": {},
     "output_type": "execute_result"
    }
   ],
   "source": [
    "# print the confusion matrix\n",
    "metrics.confusion_matrix(Y_testdata, y_pred_class)"
   ]
  },
  {
   "cell_type": "markdown",
   "metadata": {
    "deletable": true,
    "editable": true
   },
   "source": [
    "Reference: https://keras.io/"
   ]
  }
 ],
 "metadata": {
  "anaconda-cloud": {},
  "kernelspec": {
   "display_name": "Python [default]",
   "language": "python",
   "name": "python2"
  },
  "language_info": {
   "codemirror_mode": {
    "name": "ipython",
    "version": 2
   },
   "file_extension": ".py",
   "mimetype": "text/x-python",
   "name": "python",
   "nbconvert_exporter": "python",
   "pygments_lexer": "ipython2",
   "version": "2.7.12"
  }
 },
 "nbformat": 4,
 "nbformat_minor": 2
}
